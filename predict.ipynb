{
 "cells": [
  {
   "cell_type": "code",
   "execution_count": 1,
   "id": "f27bce32",
   "metadata": {},
   "outputs": [],
   "source": [
    "import pandas as pd\n",
    "import pickle\n",
    "import numpy as np"
   ]
  },
  {
   "cell_type": "code",
   "execution_count": 2,
   "id": "be5b661f",
   "metadata": {},
   "outputs": [],
   "source": [
    "def predict_wine_quality(data, model):\n",
    "    \n",
    "    if type(data) == dict:\n",
    "        df = pd.DataFrame(data)\n",
    "    else:\n",
    "        df = data\n",
    "    \n",
    "    #y_pred = model.predict(df)\n",
    "    y_pred = model.predict(df).round().astype(int)\n",
    "    return y_pred"
   ]
  },
  {
   "cell_type": "code",
   "execution_count": 3,
   "id": "6e8ebf77",
   "metadata": {},
   "outputs": [],
   "source": [
    "##checking it on a random sample\n",
    "new_data = {\n",
    "    'fixed acidity': [1.2, 2.3],\n",
    "    'volatile acidity': [0.1, 0.8],\n",
    "    'citric acid': [0.5, 1.7],\n",
    "    'residual sugar': [3.0, 13.0],\n",
    "    'chlorides': [2.0, 15.0],\n",
    "    'free sulfur dioxide': [10.0, 72.7],\n",
    "    'total sulfur dioxide': [33.0, 135.0],\n",
    "    'density': [0.99, 1.007],\n",
    "    'pH': [3.0, 9.0],\n",
    "    'sulphates': [0.3, 1.8],\n",
    "    'alcohol': [9.3, 13.4]\n",
    "    }"
   ]
  },
  {
   "cell_type": "code",
   "execution_count": 4,
   "id": "797dda4c",
   "metadata": {},
   "outputs": [],
   "source": [
    "##loading the model from the saved file\n",
    "with open('model.bin', 'rb') as f_in:\n",
    "    model = pickle.load(f_in)\n",
    "\n"
   ]
  },
  {
   "cell_type": "code",
   "execution_count": 8,
   "id": "cdd43374",
   "metadata": {},
   "outputs": [
    {
     "data": {
      "text/plain": [
       "[5, 6]"
      ]
     },
     "execution_count": 8,
     "metadata": {},
     "output_type": "execute_result"
    }
   ],
   "source": [
    "predict_wine_quality(new_data, model)"
   ]
  },
  {
   "cell_type": "code",
   "execution_count": null,
   "id": "6bc5a20a",
   "metadata": {},
   "outputs": [],
   "source": []
  }
 ],
 "metadata": {
  "kernelspec": {
   "display_name": "Python 3",
   "language": "python",
   "name": "python3"
  },
  "language_info": {
   "codemirror_mode": {
    "name": "ipython",
    "version": 3
   },
   "file_extension": ".py",
   "mimetype": "text/x-python",
   "name": "python",
   "nbconvert_exporter": "python",
   "pygments_lexer": "ipython3",
   "version": "3.9.5"
  }
 },
 "nbformat": 4,
 "nbformat_minor": 5
}
